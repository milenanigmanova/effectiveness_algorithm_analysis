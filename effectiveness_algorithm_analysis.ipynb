{
 "cells": [
  {
   "cell_type": "markdown",
   "metadata": {
    "id": "6d15cc18",
    "outputId": "73438d10-0dc7-4c75-895b-f4074e959114"
   },
   "source": [
    "# АНАЛИЗ ЭФФЕКТИВНОСТИ НОВОГО АЛГОРИТМА ПОИСКА АНКЕТ"
   ]
  },
  {
   "cell_type": "markdown",
   "metadata": {},
   "source": [
    "Вы работаете аналитиком в приложении для онлайн-знакомств. Механика приложения следующая: пользователи видят в приложении анкеты друг друга и ставят лайки или дизлайки. Если пользователи поставили друг другу лайк – это мэтч. У пользователей появляется возможность познакомиться.\n",
    "\n",
    "Команда приложения разработала новый алгоритм для поиска наиболее подходящих анкет. Для проверки работы алгоритма провели A/B-тест. Все пользователи были разделены на две группы. Пользователи в группе с номером 0 пользовались приложением со старым алгоритмом. Пользователи в группе №1 пользовались приложением с новым алгоритмом для поиска анкет.\n",
    "\n",
    "**Ваша задача**: оценить, действительно ли новый алгоритм улучшил качество сервиса. Для этого нужно выбрать метрики, которые отвечают за качество сервиса, и статистически сравнить эти метрики в двух группах.\n",
    "\n",
    "В данных находится выгрузка логов взаимодействия пользователей друг с другом. Для каждой пары пользователей указаны их группа в A/B-тесте и факт мэтча.\n",
    "* Group 0 - контрольная группа (пользовались приложением со старым алгоритмом);\n",
    "* Group 1 - экспертиментальная группа (пользовались новым алгоритмом для поиска анкет).\n",
    "\n",
    "**Результат вашей работы** – аналитическое заключение с ответом на вопрос, стоит ли включать новую систему поиска анкет на всех пользователей."
   ]
  },
  {
   "cell_type": "markdown",
   "metadata": {},
   "source": [
    "Импортируем необходимые библиотеки:"
   ]
  },
  {
   "cell_type": "code",
   "execution_count": 2,
   "metadata": {},
   "outputs": [],
   "source": [
    "import numpy as np\n",
    "import pandas as pd\n",
    "\n",
    "import scipy.stats as ss\n",
    "\n",
    "import seaborn as sns\n",
    "import matplotlib.pyplot as plt"
   ]
  },
  {
   "cell_type": "markdown",
   "metadata": {
    "id": "50829084"
   },
   "source": [
    "## Предварительный анализ данных"
   ]
  },
  {
   "cell_type": "code",
   "execution_count": 3,
   "metadata": {
    "id": "a62bbc71"
   },
   "outputs": [],
   "source": [
    "dating_data = pd.read_csv('dating_data.csv')"
   ]
  },
  {
   "cell_type": "code",
   "execution_count": 4,
   "metadata": {
    "id": "e076db55",
    "outputId": "b5a49651-fa5a-4de6-c2e1-9b1d0c11e9be"
   },
   "outputs": [
    {
     "data": {
      "text/html": [
       "<div>\n",
       "<style scoped>\n",
       "    .dataframe tbody tr th:only-of-type {\n",
       "        vertical-align: middle;\n",
       "    }\n",
       "\n",
       "    .dataframe tbody tr th {\n",
       "        vertical-align: top;\n",
       "    }\n",
       "\n",
       "    .dataframe thead th {\n",
       "        text-align: right;\n",
       "    }\n",
       "</style>\n",
       "<table border=\"1\" class=\"dataframe\">\n",
       "  <thead>\n",
       "    <tr style=\"text-align: right;\">\n",
       "      <th></th>\n",
       "      <th>user_id_1</th>\n",
       "      <th>user_id_2</th>\n",
       "      <th>group</th>\n",
       "      <th>is_match</th>\n",
       "    </tr>\n",
       "  </thead>\n",
       "  <tbody>\n",
       "    <tr>\n",
       "      <th>0</th>\n",
       "      <td>79</td>\n",
       "      <td>91</td>\n",
       "      <td>1</td>\n",
       "      <td>1</td>\n",
       "    </tr>\n",
       "    <tr>\n",
       "      <th>1</th>\n",
       "      <td>716</td>\n",
       "      <td>353</td>\n",
       "      <td>1</td>\n",
       "      <td>1</td>\n",
       "    </tr>\n",
       "    <tr>\n",
       "      <th>2</th>\n",
       "      <td>423</td>\n",
       "      <td>677</td>\n",
       "      <td>0</td>\n",
       "      <td>0</td>\n",
       "    </tr>\n",
       "    <tr>\n",
       "      <th>3</th>\n",
       "      <td>658</td>\n",
       "      <td>165</td>\n",
       "      <td>1</td>\n",
       "      <td>1</td>\n",
       "    </tr>\n",
       "    <tr>\n",
       "      <th>4</th>\n",
       "      <td>969</td>\n",
       "      <td>155</td>\n",
       "      <td>0</td>\n",
       "      <td>1</td>\n",
       "    </tr>\n",
       "  </tbody>\n",
       "</table>\n",
       "</div>"
      ],
      "text/plain": [
       "   user_id_1  user_id_2  group  is_match\n",
       "0         79         91      1         1\n",
       "1        716        353      1         1\n",
       "2        423        677      0         0\n",
       "3        658        165      1         1\n",
       "4        969        155      0         1"
      ]
     },
     "execution_count": 4,
     "metadata": {},
     "output_type": "execute_result"
    }
   ],
   "source": [
    "dating_data.head()"
   ]
  },
  {
   "cell_type": "code",
   "execution_count": 8,
   "metadata": {},
   "outputs": [
    {
     "data": {
      "text/plain": [
       "(14514, 4)"
      ]
     },
     "execution_count": 8,
     "metadata": {},
     "output_type": "execute_result"
    }
   ],
   "source": [
    "# Размер файла\n",
    "dating_data.shape"
   ]
  },
  {
   "cell_type": "code",
   "execution_count": 9,
   "metadata": {},
   "outputs": [
    {
     "data": {
      "text/plain": [
       "user_id_1    0\n",
       "user_id_2    0\n",
       "group        0\n",
       "is_match     0\n",
       "dtype: int64"
      ]
     },
     "execution_count": 9,
     "metadata": {},
     "output_type": "execute_result"
    }
   ],
   "source": [
    "# Проверка на наличие пустых значений\n",
    "dating_data.isna().sum()"
   ]
  },
  {
   "cell_type": "code",
   "execution_count": 5,
   "metadata": {
    "id": "b56a78c3",
    "outputId": "66e21ae7-5413-423e-f403-51b6f1c6186b"
   },
   "outputs": [
    {
     "data": {
      "text/plain": [
       "user_id_1    1000\n",
       "user_id_2    1000\n",
       "group           2\n",
       "is_match        2\n",
       "dtype: int64"
      ]
     },
     "execution_count": 5,
     "metadata": {},
     "output_type": "execute_result"
    }
   ],
   "source": [
    "# Число уникальных значений \n",
    "dating_data.nunique()"
   ]
  },
  {
   "cell_type": "code",
   "execution_count": 6,
   "metadata": {
    "id": "7a948202",
    "outputId": "057e5110-840a-466f-ab11-dca58361dc28"
   },
   "outputs": [
    {
     "data": {
      "text/plain": [
       "1    9722\n",
       "0    4792\n",
       "Name: group, dtype: int64"
      ]
     },
     "execution_count": 6,
     "metadata": {},
     "output_type": "execute_result"
    }
   ],
   "source": [
    "# Сколько пользователей относится к каждой из групп\n",
    "dating_data.group.value_counts()"
   ]
  },
  {
   "cell_type": "markdown",
   "metadata": {
    "id": "ee68d281"
   },
   "source": [
    "Видно, что число пар пользователей из экспериментальной группы больше в 2 раза по сравнению с контрольной. Возможно пользователи из экспериментальной группы имели больше желания и возможностей для взаимодействия друг с другом как раз благодаря изменению алгоритма поиска анкет."
   ]
  },
  {
   "cell_type": "markdown",
   "metadata": {},
   "source": [
    "## Посчитаем долю совпадений в группах:"
   ]
  },
  {
   "cell_type": "code",
   "execution_count": 10,
   "metadata": {
    "id": "09396535",
    "outputId": "37e5d975-9b1d-4e7c-bbd5-14f2e7ec895b"
   },
   "outputs": [
    {
     "data": {
      "text/html": [
       "<div>\n",
       "<style scoped>\n",
       "    .dataframe tbody tr th:only-of-type {\n",
       "        vertical-align: middle;\n",
       "    }\n",
       "\n",
       "    .dataframe tbody tr th {\n",
       "        vertical-align: top;\n",
       "    }\n",
       "\n",
       "    .dataframe thead th {\n",
       "        text-align: right;\n",
       "    }\n",
       "</style>\n",
       "<table border=\"1\" class=\"dataframe\">\n",
       "  <thead>\n",
       "    <tr style=\"text-align: right;\">\n",
       "      <th></th>\n",
       "      <th>user_id</th>\n",
       "      <th>group</th>\n",
       "      <th>actions</th>\n",
       "      <th>matchs_count</th>\n",
       "    </tr>\n",
       "  </thead>\n",
       "  <tbody>\n",
       "    <tr>\n",
       "      <th>0</th>\n",
       "      <td>1</td>\n",
       "      <td>1</td>\n",
       "      <td>24</td>\n",
       "      <td>11</td>\n",
       "    </tr>\n",
       "    <tr>\n",
       "      <th>1</th>\n",
       "      <td>2</td>\n",
       "      <td>1</td>\n",
       "      <td>16</td>\n",
       "      <td>7</td>\n",
       "    </tr>\n",
       "    <tr>\n",
       "      <th>2</th>\n",
       "      <td>3</td>\n",
       "      <td>1</td>\n",
       "      <td>16</td>\n",
       "      <td>5</td>\n",
       "    </tr>\n",
       "    <tr>\n",
       "      <th>3</th>\n",
       "      <td>4</td>\n",
       "      <td>0</td>\n",
       "      <td>9</td>\n",
       "      <td>2</td>\n",
       "    </tr>\n",
       "    <tr>\n",
       "      <th>4</th>\n",
       "      <td>5</td>\n",
       "      <td>1</td>\n",
       "      <td>22</td>\n",
       "      <td>13</td>\n",
       "    </tr>\n",
       "    <tr>\n",
       "      <th>...</th>\n",
       "      <td>...</td>\n",
       "      <td>...</td>\n",
       "      <td>...</td>\n",
       "      <td>...</td>\n",
       "    </tr>\n",
       "    <tr>\n",
       "      <th>995</th>\n",
       "      <td>996</td>\n",
       "      <td>0</td>\n",
       "      <td>8</td>\n",
       "      <td>1</td>\n",
       "    </tr>\n",
       "    <tr>\n",
       "      <th>996</th>\n",
       "      <td>997</td>\n",
       "      <td>0</td>\n",
       "      <td>12</td>\n",
       "      <td>1</td>\n",
       "    </tr>\n",
       "    <tr>\n",
       "      <th>997</th>\n",
       "      <td>998</td>\n",
       "      <td>1</td>\n",
       "      <td>18</td>\n",
       "      <td>10</td>\n",
       "    </tr>\n",
       "    <tr>\n",
       "      <th>998</th>\n",
       "      <td>999</td>\n",
       "      <td>0</td>\n",
       "      <td>7</td>\n",
       "      <td>2</td>\n",
       "    </tr>\n",
       "    <tr>\n",
       "      <th>999</th>\n",
       "      <td>1000</td>\n",
       "      <td>1</td>\n",
       "      <td>23</td>\n",
       "      <td>12</td>\n",
       "    </tr>\n",
       "  </tbody>\n",
       "</table>\n",
       "<p>1000 rows × 4 columns</p>\n",
       "</div>"
      ],
      "text/plain": [
       "     user_id  group  actions  matchs_count\n",
       "0          1      1       24            11\n",
       "1          2      1       16             7\n",
       "2          3      1       16             5\n",
       "3          4      0        9             2\n",
       "4          5      1       22            13\n",
       "..       ...    ...      ...           ...\n",
       "995      996      0        8             1\n",
       "996      997      0       12             1\n",
       "997      998      1       18            10\n",
       "998      999      0        7             2\n",
       "999     1000      1       23            12\n",
       "\n",
       "[1000 rows x 4 columns]"
      ]
     },
     "execution_count": 10,
     "metadata": {},
     "output_type": "execute_result"
    }
   ],
   "source": [
    "# Группируем данные по пользователям и группам, чтобы подсчитать действия и совпадения\n",
    "aggregate = (\n",
    "    dating_data.groupby(['user_id_1', 'group'], as_index=False)\n",
    "      .agg({\n",
    "          'user_id_2': 'count',  # Подсчитываем количество действий пользователя (лайков/дизлайков)\n",
    "          'is_match': 'sum'      # Суммируем количество взаимных лайков (совпадений)\n",
    "      })\n",
    "      .rename(columns={\n",
    "          'user_id_1': 'user_id',\n",
    "          'user_id_2': 'actions',\n",
    "          'is_match': 'matchs_count'\n",
    "      })\n",
    ")\n",
    "\n",
    "aggregate"
   ]
  },
  {
   "cell_type": "code",
   "execution_count": 13,
   "metadata": {},
   "outputs": [
    {
     "data": {
      "text/html": [
       "<div>\n",
       "<style scoped>\n",
       "    .dataframe tbody tr th:only-of-type {\n",
       "        vertical-align: middle;\n",
       "    }\n",
       "\n",
       "    .dataframe tbody tr th {\n",
       "        vertical-align: top;\n",
       "    }\n",
       "\n",
       "    .dataframe thead th {\n",
       "        text-align: right;\n",
       "    }\n",
       "</style>\n",
       "<table border=\"1\" class=\"dataframe\">\n",
       "  <thead>\n",
       "    <tr style=\"text-align: right;\">\n",
       "      <th></th>\n",
       "      <th>user_id</th>\n",
       "      <th>group</th>\n",
       "      <th>actions</th>\n",
       "      <th>matchs_count</th>\n",
       "      <th>matchs_share</th>\n",
       "    </tr>\n",
       "  </thead>\n",
       "  <tbody>\n",
       "    <tr>\n",
       "      <th>0</th>\n",
       "      <td>1</td>\n",
       "      <td>1</td>\n",
       "      <td>24</td>\n",
       "      <td>11</td>\n",
       "      <td>0.46</td>\n",
       "    </tr>\n",
       "    <tr>\n",
       "      <th>1</th>\n",
       "      <td>2</td>\n",
       "      <td>1</td>\n",
       "      <td>16</td>\n",
       "      <td>7</td>\n",
       "      <td>0.44</td>\n",
       "    </tr>\n",
       "    <tr>\n",
       "      <th>2</th>\n",
       "      <td>3</td>\n",
       "      <td>1</td>\n",
       "      <td>16</td>\n",
       "      <td>5</td>\n",
       "      <td>0.31</td>\n",
       "    </tr>\n",
       "    <tr>\n",
       "      <th>3</th>\n",
       "      <td>4</td>\n",
       "      <td>0</td>\n",
       "      <td>9</td>\n",
       "      <td>2</td>\n",
       "      <td>0.22</td>\n",
       "    </tr>\n",
       "    <tr>\n",
       "      <th>4</th>\n",
       "      <td>5</td>\n",
       "      <td>1</td>\n",
       "      <td>22</td>\n",
       "      <td>13</td>\n",
       "      <td>0.59</td>\n",
       "    </tr>\n",
       "    <tr>\n",
       "      <th>...</th>\n",
       "      <td>...</td>\n",
       "      <td>...</td>\n",
       "      <td>...</td>\n",
       "      <td>...</td>\n",
       "      <td>...</td>\n",
       "    </tr>\n",
       "    <tr>\n",
       "      <th>995</th>\n",
       "      <td>996</td>\n",
       "      <td>0</td>\n",
       "      <td>8</td>\n",
       "      <td>1</td>\n",
       "      <td>0.12</td>\n",
       "    </tr>\n",
       "    <tr>\n",
       "      <th>996</th>\n",
       "      <td>997</td>\n",
       "      <td>0</td>\n",
       "      <td>12</td>\n",
       "      <td>1</td>\n",
       "      <td>0.08</td>\n",
       "    </tr>\n",
       "    <tr>\n",
       "      <th>997</th>\n",
       "      <td>998</td>\n",
       "      <td>1</td>\n",
       "      <td>18</td>\n",
       "      <td>10</td>\n",
       "      <td>0.56</td>\n",
       "    </tr>\n",
       "    <tr>\n",
       "      <th>998</th>\n",
       "      <td>999</td>\n",
       "      <td>0</td>\n",
       "      <td>7</td>\n",
       "      <td>2</td>\n",
       "      <td>0.29</td>\n",
       "    </tr>\n",
       "    <tr>\n",
       "      <th>999</th>\n",
       "      <td>1000</td>\n",
       "      <td>1</td>\n",
       "      <td>23</td>\n",
       "      <td>12</td>\n",
       "      <td>0.52</td>\n",
       "    </tr>\n",
       "  </tbody>\n",
       "</table>\n",
       "<p>1000 rows × 5 columns</p>\n",
       "</div>"
      ],
      "text/plain": [
       "     user_id  group  actions  matchs_count  matchs_share\n",
       "0          1      1       24            11          0.46\n",
       "1          2      1       16             7          0.44\n",
       "2          3      1       16             5          0.31\n",
       "3          4      0        9             2          0.22\n",
       "4          5      1       22            13          0.59\n",
       "..       ...    ...      ...           ...           ...\n",
       "995      996      0        8             1          0.12\n",
       "996      997      0       12             1          0.08\n",
       "997      998      1       18            10          0.56\n",
       "998      999      0        7             2          0.29\n",
       "999     1000      1       23            12          0.52\n",
       "\n",
       "[1000 rows x 5 columns]"
      ]
     },
     "execution_count": 13,
     "metadata": {},
     "output_type": "execute_result"
    }
   ],
   "source": [
    "# Рассчитываем долю совпадений среди действий пользователя\n",
    "aggregate['matchs_share'] = round(aggregate['matchs_count'] / aggregate['actions'], 2)\n",
    "\n",
    "# Выводим результирующий DataFrame\n",
    "aggregate"
   ]
  },
  {
   "cell_type": "code",
   "execution_count": 8,
   "metadata": {
    "id": "08a37314",
    "outputId": "cad89f37-6627-40c8-8e51-ed7de2096b0f"
   },
   "outputs": [
    {
     "data": {
      "text/plain": [
       "0    501\n",
       "1    499\n",
       "Name: group, dtype: int64"
      ]
     },
     "execution_count": 8,
     "metadata": {},
     "output_type": "execute_result"
    }
   ],
   "source": [
    "aggregate.group.value_counts()"
   ]
  },
  {
   "cell_type": "markdown",
   "metadata": {
    "id": "5792201c"
   },
   "source": [
    "## Сравнение доли мэтчей между контрольной и тестовой группами\n"
   ]
  },
  {
   "cell_type": "code",
   "execution_count": 9,
   "metadata": {
    "id": "897a839b",
    "outputId": "b0400b78-af21-483e-9a49-4fded061c92d"
   },
   "outputs": [
    {
     "data": {
      "text/plain": [
       "count    501.000000\n",
       "mean       0.193593\n",
       "std        0.134368\n",
       "min        0.000000\n",
       "25%        0.100000\n",
       "50%        0.180000\n",
       "75%        0.270000\n",
       "max        0.670000\n",
       "Name: matchs_share, dtype: float64"
      ]
     },
     "execution_count": 9,
     "metadata": {},
     "output_type": "execute_result"
    }
   ],
   "source": [
    "aggregate.query('group == 0').matchs_share.describe()"
   ]
  },
  {
   "cell_type": "code",
   "execution_count": 10,
   "metadata": {
    "id": "21baa5cd"
   },
   "outputs": [
    {
     "data": {
      "text/plain": [
       "count    499.000000\n",
       "mean       0.402405\n",
       "std        0.114209\n",
       "min        0.000000\n",
       "25%        0.330000\n",
       "50%        0.400000\n",
       "75%        0.480000\n",
       "max        0.720000\n",
       "Name: matchs_share, dtype: float64"
      ]
     },
     "execution_count": 10,
     "metadata": {},
     "output_type": "execute_result"
    }
   ],
   "source": [
    "aggregate.query('group == 1').matchs_share.describe()"
   ]
  },
  {
   "cell_type": "markdown",
   "metadata": {},
   "source": [
    "Средняя доля мэтчей в тестовой группе (= 0.4) в два раза больше, чем в контрольной (= 0.19). Однако рано делать выводы, так как пока не доказана статистическая значимость подобных различий.\n",
    "\n",
    "Проверим, есть ли различия в средней доле мэтчей на пользователя в двух полученных группах с помощью t-критерия Уэлча, поскольку стандартные отклонения выборок не равны и обе переменные количественные:\n",
    "\n",
    "* Н0 - различия в средней доле мэтчей статистически не значимы;\n",
    "* Н1 - различия в средней доле мэтчей статистически значимы."
   ]
  },
  {
   "cell_type": "code",
   "execution_count": 14,
   "metadata": {},
   "outputs": [
    {
     "data": {
      "text/plain": [
       "Ttest_indResult(statistic=-26.481431782585016, pvalue=7.890669157069948e-117)"
      ]
     },
     "execution_count": 14,
     "metadata": {},
     "output_type": "execute_result"
    }
   ],
   "source": [
    "# Выполнение t-критерия Уэлча\n",
    "ss.ttest_ind(aggregate.query('group == 0').matchs_share,\n",
    "aggregate.query('group == 1').matchs_share,\n",
    "equal_var=False)"
   ]
  },
  {
   "cell_type": "markdown",
   "metadata": {},
   "source": [
    "pvalue < 0.05, значит отклоняем нулевую гипотезу и делаем вывод, что средняя доля мэтчей между двумя группами статистически различается. "
   ]
  },
  {
   "cell_type": "markdown",
   "metadata": {},
   "source": [
    "## Сравнение среднего количества действий между контрольной и тестовой группами"
   ]
  },
  {
   "cell_type": "code",
   "execution_count": 15,
   "metadata": {},
   "outputs": [
    {
     "data": {
      "text/plain": [
       "count    501.000000\n",
       "mean       9.564870\n",
       "std        3.056515\n",
       "min        1.000000\n",
       "25%        8.000000\n",
       "50%        9.000000\n",
       "75%       12.000000\n",
       "max       20.000000\n",
       "Name: actions, dtype: float64"
      ]
     },
     "execution_count": 15,
     "metadata": {},
     "output_type": "execute_result"
    }
   ],
   "source": [
    "# Контрольная группа\n",
    "aggregate.query('group == 0').actions.describe()"
   ]
  },
  {
   "cell_type": "code",
   "execution_count": 16,
   "metadata": {},
   "outputs": [
    {
     "data": {
      "text/plain": [
       "count    499.000000\n",
       "mean      19.482966\n",
       "std        2.991489\n",
       "min       11.000000\n",
       "25%       18.000000\n",
       "50%       20.000000\n",
       "75%       22.000000\n",
       "max       29.000000\n",
       "Name: actions, dtype: float64"
      ]
     },
     "execution_count": 16,
     "metadata": {},
     "output_type": "execute_result"
    }
   ],
   "source": [
    "# Тестовая группа\n",
    "aggregate.query('group == 1').actions.describe()"
   ]
  },
  {
   "cell_type": "markdown",
   "metadata": {},
   "source": [
    "Среднее количество действий в тестовой группе примерно в 2 раза выше, чем в контрольной. Это значит, что пользователи из тестовой группы более активны, они ставят больше лайков и дизлайлов, чем польщователи из контрольной группы. Однако рано делать выводы, так как пока не доказана статистическая значимость подобных различий."
   ]
  },
  {
   "cell_type": "markdown",
   "metadata": {},
   "source": [
    "Судя по стандартному отклонению в обеих выборказ, метрики \"среднее количество действий\" в 0 и 1 группе имеют примерно одинаковые дисперсии. Проверим это с помощью критерия Левена:\n",
    "* Н0 - дисперсии групп равны;\n",
    "* Н1 - дисперсии групп не равны."
   ]
  },
  {
   "cell_type": "code",
   "execution_count": 17,
   "metadata": {},
   "outputs": [
    {
     "data": {
      "text/plain": [
       "LeveneResult(statistic=0.4804538582845789, pvalue=0.48837808141783545)"
      ]
     },
     "execution_count": 17,
     "metadata": {},
     "output_type": "execute_result"
    }
   ],
   "source": [
    "ss.levene(aggregate.query('group == 0').actions,\n",
    "aggregate.query('group == 1').actions)"
   ]
  },
  {
   "cell_type": "markdown",
   "metadata": {},
   "source": [
    "pvalue > 0.05, значит у нас нет оснований отклонить нулевую гипотезу - дисперсии групп равны. \n",
    "\n",
    "Раз дисперсии равны, то используем t-критерия Стьюдента для проверки различий среднего количества действий в тестовой и контрольной группах на статистическую значимость:\n",
    "\n",
    "* Н0 - различия в среднем количестве действий статистически не значимы;\n",
    "* Н1 - различия в среднем количестве действий статистически значимы."
   ]
  },
  {
   "cell_type": "code",
   "execution_count": 19,
   "metadata": {},
   "outputs": [
    {
     "data": {
      "text/plain": [
       "Ttest_indResult(statistic=-51.85383774946492, pvalue=1.8942877064043142e-285)"
      ]
     },
     "execution_count": 19,
     "metadata": {},
     "output_type": "execute_result"
    }
   ],
   "source": [
    "# Выполнение t-критерия Стьюдента\n",
    "ss.ttest_ind(aggregate.query('group == 0').actions,\n",
    "aggregate.query('group == 1').actions,\n",
    "equal_var=True)"
   ]
  },
  {
   "cell_type": "markdown",
   "metadata": {},
   "source": [
    "pvalue < 0.05, значит отклоняем нулевую гипотезу и делаем вывод, что среднее количество действий в группах статистически различается."
   ]
  },
  {
   "cell_type": "markdown",
   "metadata": {},
   "source": [
    "# Вывод\n",
    "1. Средняя доля мэтчей в тестовой группе в два раза больше, чем в контрольной. \n",
    "    - Средняя доля мэтчей между двумя группами статистически различается.\n",
    "\n",
    "\n",
    "2. Среднее количество действий в тестовой группе примерно в 2 раза выше, чем в контрольной. Это значит, что пользователи из тестовой группы более активны, они ставят больше лайков и дизлайлов, чем польщователи из контрольной группы. \n",
    "    - Среднее количество действий в группах статистически различается.\n",
    "\n",
    "\n",
    "### Стоит ли включать новую систему поиска анкет на всех пользователей?\n",
    "\n",
    "Да, потому что новая система увеличивает метрики. Результаты A/B-теста показали, что новая система улучшила долю мэтчей и активность клиентов в продукте."
   ]
  }
 ],
 "metadata": {
  "colab": {
   "provenance": []
  },
  "kernelspec": {
   "display_name": "Python 3",
   "language": "python",
   "name": "python3"
  },
  "language_info": {
   "codemirror_mode": {
    "name": "ipython",
    "version": 3
   },
   "file_extension": ".py",
   "mimetype": "text/x-python",
   "name": "python",
   "nbconvert_exporter": "python",
   "pygments_lexer": "ipython3",
   "version": "3.7.3"
  }
 },
 "nbformat": 4,
 "nbformat_minor": 5
}
